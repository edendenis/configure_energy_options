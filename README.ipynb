{
 "cells": [
  {
   "cell_type": "markdown",
   "metadata": {},
   "source": [
    "# Como configurar/instalar o `Power Manager`opções de energia no `Linux Ubuntu`\n",
    "\n",
    "## Resumo\n",
    "\n",
    "Neste documento estão contidos os principais comandos e configurações para configurar/instalar o `Power Manager` no `Linux Ubuntu`.\n",
    "\n",
    "## _Abstract_\n",
    "\n",
    "_This document contains the main commands and configurations to configure/install the `Power Manager` on `Linux Ubuntu`._"
   ]
  },
  {
   "cell_type": "markdown",
   "metadata": {},
   "source": [
    "## Revisão(ões)/Versão(ões)\n",
    "\n",
    "| Revisão número | Data da revisão  | Descrição da revisão                                    | Autor da revisão                                |\n",
    "|:--------------:|:----------------:|:--------------------------------------------------------|:------------------------------------------------|\n",
    "| 0              | 02/02/2024       | <ul><li>Revisão inicial/criação do documento.</li></ul> | <ul><li>Eden Denis F. da S. L. Santos</li></ul> |\n"
   ]
  },
  {
   "cell_type": "markdown",
   "metadata": {},
   "source": [
    "## Controle de configuração/instalação nos Sistemas Operacionais (SO) vs. Computador\n",
    "\n",
    "| Numero| Computador          | Sistema Operacional (SO) | Tipo de sistema | Status da configuração/instalação|\n",
    "|:-----:|:-------------------:|:------------------------:|:---------------:|:--------------------------------:|\n",
    "| 1     | Dell Precision 7520 | Kali Linux               | Debian          | Pendente                         |\n",
    "| 2     | Dell Precision 7520 | Linux Ubuntu             | Ubuntu          | Pendente                         |\n",
    "| 3     | Dell Precision 7520 | Linux Xubuntu            | Ubuntu          | OK                               |\n",
    "| 4     | Dell Precision 7520 | Windows 10               | Windows         | Pendente                         |\n",
    "| 5     | Asus                | Kali Linux               | Debian          | Pendente                         |\n",
    "| 6     | Asus                | Linux Ubuntu             | Ubuntu          | Pendente                         |\n",
    "| 7     | Asus                | Linux Xubuntu            | Ubuntu          | Pendent                          |\n",
    "| 8     | Asus                | Windows 10               | Windows         | Pendente                         |\n",
    "\n",
    "### Legenda\n",
    "\n",
    "- **N/A:** Not apllicable/Não aplicável\n",
    "- **OK:** Zero killed"
   ]
  },
  {
   "cell_type": "markdown",
   "metadata": {},
   "source": [
    "## Descrição [2]\n",
    "\n",
    "### `Power Manager`\n",
    "\n",
    "O \"Power Manager\" é uma aplicação ou recurso de software projetado para gerenciar o consumo de energia e as configurações de energia em sistemas computacionais, como laptops e desktops. Ele oferece aos usuários a capacidade de personalizar o comportamento do sistema em relação ao gerenciamento de energia, permitindo que ajustem configurações como suspensão, desligamento automático do monitor e economia de energia da CPU. O Power Manager é valioso para otimizar o uso de energia, prolongar a vida útil da bateria em dispositivos móveis e reduzir o consumo de energia em sistemas de desktop, contribuindo para uma experiência de computação mais eficiente e amigável ao meio ambiente. Geralmente, ele oferece opções para criar perfis de energia personalizados, adaptando-se às necessidades dos usuários em diferentes cenários de uso."
   ]
  },
  {
   "cell_type": "markdown",
   "metadata": {},
   "source": [
    "## 1. Como configurar/instalar o `Power Manager`no `Linux Ubuntu` [1][3]\n",
    "\n",
    "Para configurar/instalar o `Power Manager` no `Linux Ubuntu`, você pode seguir estes passos:\n",
    "\n",
    "1. Abra o terminal. Você pode fazer isso pressionando: `Ctrl + Alt + T`    "
   ]
  },
  {
   "cell_type": "markdown",
   "metadata": {},
   "source": [
    "2. Certifique-se de que seu sistema esteja limpo e atualizado.\n",
    "\n",
    "    2.1 Limpar o `cache` do gerenciador de pacotes APT. Especificamente, ele remove todos os arquivos de pacotes (`.deb`) baixados pelo APT e armazenados em `/var/cache/apt/archives/`. Digite o seguinte comando: `sudo apt clean` \n",
    "    \n",
    "    2.2 Remover pacotes `.deb` antigos ou duplicados do cache local. É útil para liberar espaço, pois remove apenas os pacotes que não podem mais ser baixados (ou seja, versões antigas de pacotes que foram atualizados). Digite o seguinte comando: `sudo apt autoclean`\n",
    "\n",
    "    2.3 Remover pacotes que foram automaticamente instalados para satisfazer as dependências de outros pacotes e que não são mais necessários. Digite o seguinte comando: `sudo apt autoremove -y`\n",
    "\n",
    "    2.4 Buscar as atualizações disponíveis para os pacotes que estão instalados em seu sistema. Digite o seguinte comando e pressione `Enter`: `sudo apt update -y`\n",
    "\n",
    "    2.5 Para ver a lista de pacotes a serem atualizados, digite o seguinte comando e pressione `Enter`:  `sudo apt list --upgradable`\n",
    "\n",
    "    2.6 Realmente atualizar os pacotes instalados para as suas versões mais recentes, com base na última vez que você executou `sudo apt update -y`. Digite o seguinte comando e pressione `Enter`: `sudo apt full-upgrade -y`\n",
    "\n",
    "    2.7 Remover pacotes que foram automaticamente instalados para satisfazer as dependências de outros pacotes e que não são mais necessários. Digite o seguinte comando: `sudo apt autoremove -y`\n",
    "\n",
    "    2.8 Remover pacotes `.deb` antigos ou duplicados do cache local. É útil para liberar espaço, pois remove apenas os pacotes que não podem mais ser baixados (ou seja, versões antigas de pacotes que foram atualizados). Digite o seguinte comando: `sudo apt autoclean`"
   ]
  },
  {
   "cell_type": "markdown",
   "metadata": {},
   "source": [
    "Para alterar a ação do evento `HandleLidSwitch` para `suspend` no `systemd`, você precisará editar o arquivo de configuração do `systemd-logind`. Aqui está como você pode fazer isso:\n",
    "\n",
    "1. Abrir o arquivo de configuração para edição: Você precisa editar o arquivo `/etc/systemd/logind.conf`. Geralmente, isso requer permissões de administrador, então você usará um editor de texto com `sudo`. Por exemplo, se você preferir usar o `nano` como editor de texto, o comando seria: `sudo nano /etc/systemd/logind.conf`\n",
    "\n",
    "2. **Modificar a configuração:** Dentro do arquivo `logind.conf`, procure pela linha que contém `HandleLidSwitch`. Se essa linha começar com um `#`, isso significa que ela está comentada (desativada). Você precisará descomentá-la (remover o `#`) e alterar seu valor para `suspend`. Deverá ficar assim: `HandleLidSwitch=suspend`\n",
    "\n",
    "    Se a linha não existir, você pode simplesmente adicionar essa linha ao final do arquivo:\n",
    "\n",
    "    ```\n",
    "    #  This file is part of systemd.\n",
    "    #\n",
    "    #  systemd is free software; you can redistribute it and/or modify it under the\n",
    "    #  terms of the GNU Lesser General Public License as published by the Free\n",
    "    #  Software Foundation; either version 2.1 of the License, or (at your option)\n",
    "    #  any later version.\n",
    "    #\n",
    "    # Entries in this file show the compile time defaults. Local configuration\n",
    "    # should be created by either modifying this file, or by creating \"drop-ins\" in\n",
    "    # the logind.conf.d/ subdirectory. The latter is generally recommended.\n",
    "    # Defaults can be restored by simply deleting this file and all drop-ins.\n",
    "    #\n",
    "    # Use 'systemd-analyze cat-config systemd/logind.conf' to display the full config.\n",
    "    #\n",
    "    # See logind.conf(5) for details.\n",
    "\n",
    "    [Login]\n",
    "    #NAutoVTs=6\n",
    "    #ReserveVT=6\n",
    "    #KillUserProcesses=no\n",
    "    #KillOnlyUsers=\n",
    "    #KillExcludeUsers=root\n",
    "    #InhibitDelayMaxSec=5\n",
    "    #UserStopDelaySec=10\n",
    "    #HandlePowerKey=poweroff\n",
    "    #HandleSuspendKey=suspend\n",
    "    #HandleHibernateKey=hibernate\n",
    "    HandleLidSwitch=suspend\n",
    "    #HandleLidSwitchExternalPower=suspend\n",
    "    #HandleLidSwitchDocked=suspend\n",
    "    #HandleRebootKey=reboot\n",
    "    #PowerKeyIgnoreInhibited=no\n",
    "    #SuspendKeyIgnoreInhibited=no\n",
    "    #HibernateKeyIgnoreInhibited=no\n",
    "    #LidSwitchIgnoreInhibited=yes\n",
    "    #RebootKeyIgnoreInhibited=no\n",
    "    #HoldoffTimeoutSec=30s\n",
    "    #IdleAction=ignore\n",
    "    #IdleActionSec=30min\n",
    "    #RuntimeDirectorySize=10%\n",
    "    #RuntimeDirectoryInodesMax=400k\n",
    "    #RemoveIPC=yes\n",
    "    #InhibitorsMax=8192\n",
    "    #SessionsMax=8192\n",
    "    ```\n",
    "\n",
    "3. **Salvar e fechar o arquivo:** Após fazer a alteração, salve e feche o arquivo. No `nano`, você pode fazer isso pressionando `Ctrl+O` para salvar as mudanças e depois `Ctrl+X` para sair.\n",
    "\n",
    "4. **Aplicar as mudanças:** Para que as alterações tenham efeito, você precisa reiniciar o `systemd-logind`. Isso pode ser feito com o seguinte comando: `sudo systemctl restart systemd-logind`\n",
    "\n",
    "    Tenha em mente que reiniciar o systemd-logind pode encerrar a sua sessão atual e todas as aplicações abertas, então salve seu trabalho antes de executar este comando.\n",
    "\n",
    "Por favor, note que alterar as configurações de gerenciamento de energia pode ter efeitos diferentes dependendo do hardware e do ambiente de desktop que você está usando. Certifique-se de testar o comportamento após fazer essas alterações para garantir que ele atenda às suas expectativas.\n"
   ]
  },
  {
   "cell_type": "markdown",
   "metadata": {
    "vscode": {
     "languageId": "plaintext"
    }
   },
   "source": [
    "### 2. Código completo para configurar/instalar/usar\n",
    "\n",
    "Para configurar/instalar/usar para limpar o `Power Manager` no `Linux Ubuntu` sem precisar digitar linha por linha, você pode seguir estas etapas:\n",
    "\n",
    "1. Abra o terminal. Você pode fazer isso pressionando: `Ctrl + Alt + T`\n",
    "\n",
    "2. Digite o seguinte comando e pressione `Enter`:\n",
    "\n",
    "    ```\n",
    "    NÂO há.\n",
    "    ```\n"
   ]
  },
  {
   "cell_type": "markdown",
   "metadata": {
    "vscode": {
     "languageId": "plaintext"
    }
   },
   "source": [
    "## Referências\n",
    "\n",
    "[1] OPENAI. ***Alterando opções de energia.*** Disponível em: <https://chat.openai.com/c/a20133bf-1604-438b-ba06-09a5587540e1> (texto adaptado). ChatGPT. Acessado em: 02/02/2024 18:43.\n",
    "\n",
    "[2] OPENAI. ***Vs code: editor popular.*** Disponível em: <https://chat.openai.com/c/b640a25d-f8e3-4922-8a3b-ed74a2657e42> (texto adaptado). ChatGPT. Acessado em: 02/02/2024 18:43.\n"
   ]
  }
 ],
 "metadata": {
  "kernelspec": {
   "display_name": "Python 3",
   "language": "python",
   "name": "python3"
  },
  "language_info": {
   "codemirror_mode": {
    "name": "ipython",
    "version": 3
   },
   "file_extension": ".py",
   "mimetype": "text/x-python",
   "name": "python",
   "nbconvert_exporter": "python",
   "pygments_lexer": "ipython3",
   "version": "3.11.5"
  },
  "orig_nbformat": 4
 },
 "nbformat": 4,
 "nbformat_minor": 2
}
